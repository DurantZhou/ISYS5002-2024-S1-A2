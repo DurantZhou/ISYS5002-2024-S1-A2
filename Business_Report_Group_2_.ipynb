{
  "nbformat": 4,
  "nbformat_minor": 0,
  "metadata": {
    "colab": {
      "provenance": [],
      "authorship_tag": "ABX9TyPTN8req8gqfR+wX8pE33H/",
      "include_colab_link": true
    },
    "kernelspec": {
      "name": "python3",
      "display_name": "Python 3"
    },
    "language_info": {
      "name": "python"
    }
  },
  "cells": [
    {
      "cell_type": "markdown",
      "metadata": {
        "id": "view-in-github",
        "colab_type": "text"
      },
      "source": [
        "<a href=\"https://colab.research.google.com/github/DurantZhou/ISYS5002-2024-S1-A2/blob/main/Business_Report_Group_2_.ipynb\" target=\"_parent\"><img src=\"https://colab.research.google.com/assets/colab-badge.svg\" alt=\"Open In Colab\"/></a>"
      ]
    },
    {
      "cell_type": "markdown",
      "source": [],
      "metadata": {
        "id": "wELLBCOxfNyl"
      }
    },
    {
      "cell_type": "markdown",
      "source": [
        "## Introduction\n",
        "\n"
      ],
      "metadata": {
        "id": "kbTSM7tcOvVr"
      }
    },
    {
      "cell_type": "markdown",
      "source": [
        "#Overview\n",
        "\n",
        "The Australian Energy Dataset analysis is the focus of this notebook. In order to gain insight into Australia's energy consumption patterns across various states and fuel types, we will concentrate on answering specific questions.\n",
        "\n",
        "Our goal is to obtain insights that help guide policy decisions, resource allocation, and sustainable energy management practices in Australia through meticulous research and visualization.\n",
        "\n",
        "In order to shed light on the dynamics of energy use in Australia, let's delve into the data and extract insightful information."
      ],
      "metadata": {
        "id": "UYhkEq3UhAxx"
      }
    },
    {
      "cell_type": "markdown",
      "source": [
        "##Necessary Data Levels and their descriptions:\n",
        "\n",
        "\n",
        "* Year: the data is for energy consumtion by 2008-2009 and 2021-2022.\n",
        "* State: Energy consumsion for 5 states are given.\n",
        "*   Coal (PJ):Coal consumtion for each state in petajoule (PJ) are given\n",
        "*   Oil (PJ):Oil consumtion for each state in petajoule (PJ) are given\n",
        "\n",
        "\n",
        "*   Gas (PJ):Gas consumtion for each state in petajoule (PJ) are given\n",
        "\n",
        "*   Renewables (PJ):Renewables consumtion for each state in petajoule (PJ) are given\n",
        "*   Population: Total no of population for each state are given.\n",
        "\n",
        "\n",
        "*  GSP ($ million): Grid Supply Point (GSP) is given in million\n",
        "\n",
        "*   Total Energy (GJ): Total Energy consumtion by each state  is given in gigajoule (GJ).\n",
        "*   Per Capita Energy (GJ):Per Capita Energy consumtion by each state  is given in gigajoule (GJ).\n",
        "\n",
        "\n",
        "\n",
        "\n"
      ],
      "metadata": {
        "id": "vvGvPzlDNCQ8"
      }
    },
    {
      "cell_type": "markdown",
      "source": [
        "#Key points of Analysis"
      ],
      "metadata": {
        "id": "moRwTHpVfK04"
      }
    },
    {
      "cell_type": "markdown",
      "source": [
        "##Detailed Algorithm / Pseducode\n",
        "\n",
        "\n",
        "*  Upload and connet to database:\n",
        "\n",
        "*  Load data:\n",
        "*  Data Exploration:\n",
        "\n",
        "*  Data Cleaning:\n",
        "\n",
        "*  Visual Data Analysis\n",
        "\n",
        "*  Data Exploration:\n",
        "\n",
        "*  Detailed Data Analysis:\n",
        "\n",
        "\n",
        "**Data Analysis 01:** Compute and visualize the total energy consumption for each state.\n",
        "\n",
        "**Data Analysis 02:** Compute and visualize the total energy consumption by fuel type.\n",
        "\n",
        "**Data Analysis 03:** Analyse the per capita energy consumption for each state for each year and create a corresponding visualization.\n",
        "\n",
        "**Data Analysis 04:** Analyse the energy intensity, defined as energy consumption per unit of GSP, for each state annually and chart these figures.\n"
      ],
      "metadata": {
        "id": "b3iRAtPzgKDL"
      }
    },
    {
      "cell_type": "markdown",
      "source": [
        "##Retrieve Database:"
      ],
      "metadata": {
        "id": "3EvTKB18o4QV"
      }
    },
    {
      "cell_type": "markdown",
      "source": [
        "\n",
        "\n",
        "# Import libraries:\n",
        "\n",
        "\n",
        "*   List item\n",
        "*   List item\n",
        "\n",
        "\n",
        "\n",
        "\n"
      ],
      "metadata": {
        "id": "adQWule4hIQb"
      }
    },
    {
      "cell_type": "code",
      "source": [
        "import sqlite3\n",
        "connection = sqlite3.connect('AUS_energy_sqlite3.db')\n",
        "cursor = connection.cursor()\n",
        "import pandas as pd\n",
        "import numpy as np\n",
        "import matplotlib as plt"
      ],
      "metadata": {
        "id": "Yp_zPYIhpHe4"
      },
      "execution_count": null,
      "outputs": []
    },
    {
      "cell_type": "markdown",
      "source": [
        "# load Dataset:\n",
        "\n",
        "\n",
        "*   List item\n",
        "*   List item"
      ],
      "metadata": {
        "id": "GLgTv8pHpgNE"
      }
    },
    {
      "cell_type": "code",
      "source": [
        "import pandas as pd\n",
        "sql = '''\n",
        "SELECT * FROM AUS_energy;\n",
        "'''\n",
        "#Load the data into a DataFrame\n",
        "AUS_energy_df = pd.read_sql_query(sql,connection)"
      ],
      "metadata": {
        "id": "NGi7R03CphuE"
      },
      "execution_count": null,
      "outputs": []
    },
    {
      "cell_type": "markdown",
      "source": [
        "##Explore Database\n",
        "\n",
        "\n",
        "*   List item\n",
        "*   List item\n",
        "\n"
      ],
      "metadata": {
        "id": "DWHNyg0GqFcQ"
      }
    },
    {
      "cell_type": "code",
      "source": [
        "sql = '''\n",
        "SELECT name FROM sqlite_master WHERE type = 'table';\n",
        "'''\n",
        "cursor.execute(sql)\n",
        "cursor.fetchall()"
      ],
      "metadata": {
        "id": "2xJ2VOpbqM36"
      },
      "execution_count": null,
      "outputs": []
    },
    {
      "cell_type": "code",
      "source": [
        "sql = '''\n",
        "PRAGMA table_info('AUS_energy');\n",
        "'''\n",
        "cursor.execute(sql)\n",
        "cursor.fetchall()"
      ],
      "metadata": {
        "id": "NUs3ylKaqbTf"
      },
      "execution_count": null,
      "outputs": []
    },
    {
      "cell_type": "markdown",
      "source": [
        "##Check the data schema"
      ],
      "metadata": {
        "id": "K2J5PfJRsFAK"
      }
    },
    {
      "cell_type": "code",
      "source": [
        "#input\n",
        "AUS_energy_df.info() # Check general information about the dataframe\n",
        "#Output: reffer to code Development notebook"
      ],
      "metadata": {
        "id": "XNjjN0DmsHs-"
      },
      "execution_count": null,
      "outputs": []
    },
    {
      "cell_type": "markdown",
      "source": [
        "## Checking for the duplicated values"
      ],
      "metadata": {
        "id": "bXBBR4TUsshf"
      }
    },
    {
      "cell_type": "code",
      "source": [
        "#Input\n",
        "AUS_energy_df.duplicated()\n",
        "#output: no duplicate has been found, refer to development notebook"
      ],
      "metadata": {
        "id": "oQxruzdTs6Uy"
      },
      "execution_count": null,
      "outputs": []
    },
    {
      "cell_type": "markdown",
      "source": [
        "# Problem Statement\n",
        "**Total Energy Consumption by State:** To give a thorough understanding of how energy is used in many areas, we will calculate and display the total energy consumption for each state.\n",
        "\n",
        "**Total Energy Consumption by Fuel Type:** Our goal is to identify the relative contributions of different energy sources to Australia's overall energy landscape by calculating and displaying the total energy consumption for each fuel type.\n",
        "\n",
        "**Per Capita Energy Consumption:** We will produce visuals to show how energy usage per person fluctuates over time and between states by analyzing the per capita energy consumption for each state in each year.\n",
        "\n",
        "**Energy Intensity Analysis:** To better understand energy efficiency and the economic effects of energy consumption, we shall chart energy intensity, which is defined as energy consumption per unit of Gross State Product (GSP), for each state on a yearly basis."
      ],
      "metadata": {
        "id": "h9OrlzVBb1V9"
      }
    }
  ]
}