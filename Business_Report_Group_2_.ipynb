{
  "nbformat": 4,
  "nbformat_minor": 0,
  "metadata": {
    "colab": {
      "provenance": [],
      "authorship_tag": "ABX9TyOEe8PoIyup1IoamBv1dAFu",
      "include_colab_link": true
    },
    "kernelspec": {
      "name": "python3",
      "display_name": "Python 3"
    },
    "language_info": {
      "name": "python"
    }
  },
  "cells": [
    {
      "cell_type": "markdown",
      "metadata": {
        "id": "view-in-github",
        "colab_type": "text"
      },
      "source": [
        "<a href=\"https://colab.research.google.com/github/DurantZhou/ISYS5002-2024-S1-A2/blob/main/Business_Report_Group_2_.ipynb\" target=\"_parent\"><img src=\"https://colab.research.google.com/assets/colab-badge.svg\" alt=\"Open In Colab\"/></a>"
      ]
    },
    {
      "cell_type": "markdown",
      "source": [
        "## Introduction\n",
        "The Australian Energy Dataset analysis is the focus of this notebook. In order to gain insight into Australia's energy consumption patterns across various states and fuel types, we will concentrate on answering specific questions."
      ],
      "metadata": {
        "id": "kbTSM7tcOvVr"
      }
    }
  ]
}