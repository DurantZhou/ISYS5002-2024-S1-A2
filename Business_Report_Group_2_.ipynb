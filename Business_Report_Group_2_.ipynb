{
  "nbformat": 4,
  "nbformat_minor": 0,
  "metadata": {
    "colab": {
      "provenance": [],
      "authorship_tag": "ABX9TyMfoxzliULZ8sF3cRNcDGQo",
      "include_colab_link": true
    },
    "kernelspec": {
      "name": "python3",
      "display_name": "Python 3"
    },
    "language_info": {
      "name": "python"
    }
  },
  "cells": [
    {
      "cell_type": "markdown",
      "metadata": {
        "id": "view-in-github",
        "colab_type": "text"
      },
      "source": [
        "<a href=\"https://colab.research.google.com/github/DurantZhou/ISYS5002-2024-S1-A2/blob/main/Business_Report_Group_2_.ipynb\" target=\"_parent\"><img src=\"https://colab.research.google.com/assets/colab-badge.svg\" alt=\"Open In Colab\"/></a>"
      ]
    },
    {
      "cell_type": "markdown",
      "source": [
        "## Introduction\n",
        "The Australian Energy Dataset analysis is the focus of this notebook. In order to gain insight into Australia's energy consumption patterns across various states and fuel types, we will concentrate on answering specific questions.\n",
        "Among the queries we will address are:\n",
        "\n",
        "**Total Energy Consumption by State:** To give a thorough understanding of how energy is used in many areas, we will calculate and display the total energy consumption for each state.\n",
        "\n",
        "**Total Energy Consumption by Fuel Type:** Our goal is to identify the relative contributions of different energy sources to Australia's overall energy landscape by calculating and displaying the total energy consumption for each fuel type.\n",
        "\n",
        "**Per Capita Energy Consumption:** We will produce visuals to show how energy usage per person fluctuates over time and between states by analyzing the per capita energy consumption for each state in each year.\n",
        "Energy Intensity Analysis: To better understand energy efficiency and the economic effects of energy consumption, we shall chart energy intensity, which is defined as energy consumption per unit of Gross State Product (GSP), for each state on a yearly basis.\n",
        "\n",
        "Our goal is to obtain insights that help guide policy decisions, resource allocation, and sustainable energy management practices in Australia through meticulous research and visualization.\n",
        "\n",
        "In order to shed light on the dynamics of energy use in Australia, let's delve into the data and extract insightful information."
      ],
      "metadata": {
        "id": "kbTSM7tcOvVr"
      }
    }
  ]
}